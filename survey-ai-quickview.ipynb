{
 "cells": [
  {
   "cell_type": "code",
   "execution_count": 19,
   "metadata": {},
   "outputs": [],
   "source": [
    "import pandas as pd"
   ]
  },
  {
   "cell_type": "code",
   "execution_count": 20,
   "metadata": {},
   "outputs": [],
   "source": [
    "url = 'https://github.com/eueung/AI-survey2020/raw/master/survey-ai-2020-p.csv'\n",
    "df  = pd.read_csv(url)"
   ]
  },
  {
   "cell_type": "code",
   "execution_count": 21,
   "metadata": {},
   "outputs": [
    {
     "data": {
      "text/html": [
       "<div>\n",
       "<style scoped>\n",
       "    .dataframe tbody tr th:only-of-type {\n",
       "        vertical-align: middle;\n",
       "    }\n",
       "\n",
       "    .dataframe tbody tr th {\n",
       "        vertical-align: top;\n",
       "    }\n",
       "\n",
       "    .dataframe thead th {\n",
       "        text-align: right;\n",
       "    }\n",
       "</style>\n",
       "<table border=\"1\" class=\"dataframe\">\n",
       "  <thead>\n",
       "    <tr style=\"text-align: right;\">\n",
       "      <th></th>\n",
       "      <th>Timestamp</th>\n",
       "      <th>Kategori</th>\n",
       "      <th>Jenjang (Untuk Kategori Mahasiswa)</th>\n",
       "      <th>Afiliasi Institusi/Lembaga/PT</th>\n",
       "      <th>Riset/Menekuni Bidang AI sejak</th>\n",
       "      <th>Kategori Bidang AI yang Ditekuni</th>\n",
       "      <th>Detil Kategori (eg. Robotics, Face/Speech Recognition etc.)</th>\n",
       "      <th>Klaster Riset / Aplikasi AI yg Ditekuni</th>\n",
       "      <th>(Estimasi) Jumlah Publikasi di Bidang AI</th>\n",
       "      <th>Jenis Publikasi di Bidang AI</th>\n",
       "      <th>Jumlah Produk / Startup Bidang AI</th>\n",
       "      <th>Jumlah Paten / Hak Cipta / HKI di Bidang AI</th>\n",
       "      <th>Sumber Pendanaan Aktivitas / Riset (Jika Ada)</th>\n",
       "      <th>Catatan/Masukan</th>\n",
       "    </tr>\n",
       "  </thead>\n",
       "  <tbody>\n",
       "    <tr>\n",
       "      <td>37</td>\n",
       "      <td>3/27/2020 17:57:47</td>\n",
       "      <td>Dosen / Peneliti Perguruan Tinggi</td>\n",
       "      <td>NaN</td>\n",
       "      <td>Telkom University</td>\n",
       "      <td>Lebih dari 5 Tahun</td>\n",
       "      <td>Computer Vision (Facial Recognition, Medical I...</td>\n",
       "      <td>Computer Vision, GAN</td>\n",
       "      <td>Teknologi Informasi dan Komunikasi, wide range...</td>\n",
       "      <td>11-20</td>\n",
       "      <td>Konferensi, Jurnal, artikel</td>\n",
       "      <td>0 (Belum Ada)</td>\n",
       "      <td>1</td>\n",
       "      <td>Institusi atau Universitas</td>\n",
       "      <td>NaN</td>\n",
       "    </tr>\n",
       "    <tr>\n",
       "      <td>38</td>\n",
       "      <td>3/27/2020 18:41:21</td>\n",
       "      <td>Dosen / Peneliti Perguruan Tinggi</td>\n",
       "      <td>NaN</td>\n",
       "      <td>Universitas Padjadjaran</td>\n",
       "      <td>Lebih dari 5 Tahun</td>\n",
       "      <td>Computer Vision (Facial Recognition, Medical I...</td>\n",
       "      <td>Object Detection</td>\n",
       "      <td>Teknologi Informasi dan Komunikasi, Rekayasa T...</td>\n",
       "      <td>6-10</td>\n",
       "      <td>Konferensi, Jurnal</td>\n",
       "      <td>3</td>\n",
       "      <td>2</td>\n",
       "      <td>Institusi atau Universitas, Perusahaan Dalam N...</td>\n",
       "      <td>NaN</td>\n",
       "    </tr>\n",
       "    <tr>\n",
       "      <td>39</td>\n",
       "      <td>3/27/2020 21:05:16</td>\n",
       "      <td>Dosen / Peneliti Perguruan Tinggi</td>\n",
       "      <td>NaN</td>\n",
       "      <td>Universitas Kristen Maranatha</td>\n",
       "      <td>2-5 Tahun</td>\n",
       "      <td>Computer Vision (Facial Recognition, Medical I...</td>\n",
       "      <td>Face Recognitio</td>\n",
       "      <td>Teknologi Informasi dan Komunikasi</td>\n",
       "      <td>3</td>\n",
       "      <td>Jurnal</td>\n",
       "      <td>0 (Belum Ada)</td>\n",
       "      <td>0 (Belum Ada)</td>\n",
       "      <td>Institusi atau Universitas</td>\n",
       "      <td>NaN</td>\n",
       "    </tr>\n",
       "  </tbody>\n",
       "</table>\n",
       "</div>"
      ],
      "text/plain": [
       "             Timestamp                           Kategori  \\\n",
       "37  3/27/2020 17:57:47  Dosen / Peneliti Perguruan Tinggi   \n",
       "38  3/27/2020 18:41:21  Dosen / Peneliti Perguruan Tinggi   \n",
       "39  3/27/2020 21:05:16  Dosen / Peneliti Perguruan Tinggi   \n",
       "\n",
       "   Jenjang (Untuk Kategori Mahasiswa)  Afiliasi Institusi/Lembaga/PT  \\\n",
       "37                                NaN              Telkom University   \n",
       "38                                NaN        Universitas Padjadjaran   \n",
       "39                                NaN  Universitas Kristen Maranatha   \n",
       "\n",
       "   Riset/Menekuni Bidang AI sejak  \\\n",
       "37             Lebih dari 5 Tahun   \n",
       "38             Lebih dari 5 Tahun   \n",
       "39                      2-5 Tahun   \n",
       "\n",
       "                     Kategori Bidang AI yang Ditekuni  \\\n",
       "37  Computer Vision (Facial Recognition, Medical I...   \n",
       "38  Computer Vision (Facial Recognition, Medical I...   \n",
       "39  Computer Vision (Facial Recognition, Medical I...   \n",
       "\n",
       "   Detil Kategori (eg. Robotics, Face/Speech Recognition etc.)  \\\n",
       "37                               Computer Vision, GAN            \n",
       "38                                   Object Detection            \n",
       "39                                   Face Recognitio             \n",
       "\n",
       "              Klaster Riset / Aplikasi AI yg Ditekuni  \\\n",
       "37  Teknologi Informasi dan Komunikasi, wide range...   \n",
       "38  Teknologi Informasi dan Komunikasi, Rekayasa T...   \n",
       "39                 Teknologi Informasi dan Komunikasi   \n",
       "\n",
       "   (Estimasi) Jumlah Publikasi di Bidang AI  Jenis Publikasi di Bidang AI  \\\n",
       "37                                     11-20  Konferensi, Jurnal, artikel   \n",
       "38                                      6-10           Konferensi, Jurnal   \n",
       "39                                         3                       Jurnal   \n",
       "\n",
       "   Jumlah Produk / Startup Bidang AI  \\\n",
       "37                     0 (Belum Ada)   \n",
       "38                                 3   \n",
       "39                     0 (Belum Ada)   \n",
       "\n",
       "   Jumlah Paten / Hak Cipta / HKI di Bidang AI  \\\n",
       "37                                           1   \n",
       "38                                           2   \n",
       "39                               0 (Belum Ada)   \n",
       "\n",
       "        Sumber Pendanaan Aktivitas / Riset (Jika Ada) Catatan/Masukan  \n",
       "37                         Institusi atau Universitas             NaN  \n",
       "38  Institusi atau Universitas, Perusahaan Dalam N...             NaN  \n",
       "39                         Institusi atau Universitas             NaN  "
      ]
     },
     "execution_count": 21,
     "metadata": {},
     "output_type": "execute_result"
    }
   ],
   "source": [
    "df.tail(3)"
   ]
  },
  {
   "cell_type": "code",
   "execution_count": 22,
   "metadata": {},
   "outputs": [],
   "source": [
    "import matplotlib.pyplot as plt\n",
    "%matplotlib inline"
   ]
  },
  {
   "cell_type": "code",
   "execution_count": 23,
   "metadata": {},
   "outputs": [],
   "source": [
    "#df.shape\n",
    "#df.dtypes"
   ]
  },
  {
   "cell_type": "code",
   "execution_count": 24,
   "metadata": {},
   "outputs": [
    {
     "data": {
      "text/plain": [
       "Timestamp                                                       0\n",
       "Kategori                                                        0\n",
       "Jenjang (Untuk Kategori Mahasiswa)                             16\n",
       "Afiliasi Institusi/Lembaga/PT                                   0\n",
       "Riset/Menekuni Bidang AI sejak                                  0\n",
       "Kategori Bidang AI yang Ditekuni                                0\n",
       "Detil Kategori (eg. Robotics, Face/Speech Recognition etc.)     0\n",
       "Klaster Riset / Aplikasi AI yg Ditekuni                         0\n",
       "(Estimasi) Jumlah Publikasi di Bidang AI                        0\n",
       "Jenis Publikasi di Bidang AI                                    5\n",
       "Jumlah Produk / Startup Bidang AI                               0\n",
       "Jumlah Paten / Hak Cipta / HKI di Bidang AI                     0\n",
       "Sumber Pendanaan Aktivitas / Riset (Jika Ada)                   3\n",
       "Catatan/Masukan                                                29\n",
       "dtype: int64"
      ]
     },
     "execution_count": 24,
     "metadata": {},
     "output_type": "execute_result"
    }
   ],
   "source": [
    "df.isna().sum()"
   ]
  },
  {
   "cell_type": "markdown",
   "metadata": {},
   "source": [
    "---"
   ]
  },
  {
   "cell_type": "code",
   "execution_count": 25,
   "metadata": {},
   "outputs": [
    {
     "data": {
      "text/plain": [
       "Text(0, 0.5, '')"
      ]
     },
     "execution_count": 25,
     "metadata": {},
     "output_type": "execute_result"
    },
    {
     "data": {
      "image/png": "[encoded data removed]",
      "text/plain": [
       "<Figure size 432x288 with 1 Axes>"
      ]
     },
     "metadata": {},
     "output_type": "display_data"
    }
   ],
   "source": [
    "import re\n",
    "\n",
    "mapdict = {\n",
    "    'Dosen / Peneliti Perguruan Tinggi' : 'Dosen/Peneliti Univ.',\n",
    "    'Peneliti Lembaga Non Perguruan Tinggi' : 'Peneliti Non-Univ.',\n",
    "    'Mahasiswa': 'Mahasiswa',\n",
    "    'Profesional':'Profesional',\n",
    "    'Umum/Hobbyist':'Umum',\n",
    "    'Lainnya':'Lainnya'    \n",
    "}\n",
    "\n",
    "a = df['Kategori'].dropna().to_list()\n",
    "\n",
    "res1=[]\n",
    "for i in a:\n",
    "    b = i\n",
    "    for key,val in mapdict.items():\n",
    "        b = re.sub(re.escape(key),val,b)\n",
    "    c = b.strip()\n",
    "    res1 = res1 + [c]\n",
    "    \n",
    "plot = pd.Series(res1).value_counts().plot(kind='pie',autopct='%1.1f%%')\n",
    "plot.set_ylabel('')"
   ]
  },
  {
   "cell_type": "code",
   "execution_count": 26,
   "metadata": {},
   "outputs": [
    {
     "data": {
      "text/plain": [
       "<matplotlib.axes._subplots.AxesSubplot at 0x7f1850554b00>"
      ]
     },
     "execution_count": 26,
     "metadata": {},
     "output_type": "execute_result"
    },
    {
     "data": {
      "image/png": "[encoded data removed]",
      "text/plain": [
       "<Figure size 432x288 with 1 Axes>"
      ]
     },
     "metadata": {
      "needs_background": "light"
     },
     "output_type": "display_data"
    }
   ],
   "source": [
    "df['(Estimasi) Jumlah Publikasi di Bidang AI '].value_counts().sort_index().plot(kind='bar')"
   ]
  },
  {
   "cell_type": "code",
   "execution_count": 27,
   "metadata": {},
   "outputs": [
    {
     "data": {
      "text/plain": [
       "Text(0, 0.5, '')"
      ]
     },
     "execution_count": 27,
     "metadata": {},
     "output_type": "execute_result"
    },
    {
     "data": {
      "image/png": "[encoded data removed]",
      "text/plain": [
       "<Figure size 432x288 with 1 Axes>"
      ]
     },
     "metadata": {},
     "output_type": "display_data"
    }
   ],
   "source": [
    "plot = df['Riset/Menekuni Bidang AI sejak'].value_counts().plot(kind='pie',autopct='%1.1f%%')\n",
    "plot.set_ylabel('')"
   ]
  },
  {
   "cell_type": "code",
   "execution_count": 28,
   "metadata": {},
   "outputs": [
    {
     "data": {
      "image/png": "[encoded data removed]",
      "text/plain": [
       "<Figure size 432x288 with 1 Axes>"
      ]
     },
     "metadata": {
      "needs_background": "light"
     },
     "output_type": "display_data"
    }
   ],
   "source": [
    "import re\n",
    "mapdict = {\n",
    "    'Infrastruktur AI (Hardware, Open Source Frameworks, Syntetic Training Data, Cloud, Edge Computing, etc.)':'Infrastruktur AI',\n",
    "    'Computer Vision (Facial Recognition, Medical Imaging, Autonomous Navigation, Crop Monitoring, License Plate Recognition, Object Detection/Classification, etc.)':'Computer Vision',\n",
    "    'Arsitektur AI (GANs, Reinforcement Learning, Federated Learning, Capsule Networks, etc.)':'Arsitektur AI',\n",
    "    'Speech Processing & NLP (Language Translation, Smart Speaker, Chatbot / Conversational Agent, Sentiment Analysis, E-Commerce Search, etc.)':'Speech Processing & NLP',\n",
    "    'Predictive Intelligence (Predictive Maintenance, Cyber Threat Hunting, Healthcare Biometric, etc.)':'Predictive Intelligence'\n",
    "}\n",
    "invalid_items = [\n",
    "    'I',\n",
    "    'yang terkait dengan AI'\n",
    "]\n",
    "\n",
    "a = df['Kategori Bidang AI yang Ditekuni'].dropna().to_list()\n",
    "a = [i.strip() for i in a]\n",
    "\n",
    "res1=[]\n",
    "for i in a:\n",
    "    b = i\n",
    "    for key,val in mapdict.items():\n",
    "        b = re.sub(re.escape(key),val,b)\n",
    "    c = b.strip()\n",
    "    res1 = res1 + [c]\n",
    "\n",
    "res2 = []\n",
    "for i in res1:\n",
    "    b = i.split(',')\n",
    "    c = [ j.strip() for j in b]\n",
    "    res2 = res2 + c\n",
    "    \n",
    "for i in invalid_items:\n",
    "    res2.remove(i)\n",
    "    \n",
    "plot = pd.Series(res2).value_counts().plot(kind='bar') "
   ]
  },
  {
   "cell_type": "code",
   "execution_count": 29,
   "metadata": {},
   "outputs": [
    {
     "data": {
      "text/plain": [
       "Text(0, 0.5, '')"
      ]
     },
     "execution_count": 29,
     "metadata": {},
     "output_type": "execute_result"
    },
    {
     "data": {
      "image/png": "[encoded data removed]",
      "text/plain": [
       "<Figure size 432x288 with 1 Axes>"
      ]
     },
     "metadata": {},
     "output_type": "display_data"
    }
   ],
   "source": [
    "mapdict = {\n",
    "        'Jurnal' : 'Jurnal',\n",
    "        'Konferensi' : 'Konferensi',\n",
    "        'Book Chapter': 'Book Chapter',    \n",
    "        'Buku': 'Buku'    \n",
    "}\n",
    "\n",
    "def mapfunc(x):\n",
    "    validlist = [ val for key,val in mapdict.items()]\n",
    "    res = x if x in validlist else 'Lainnya'\n",
    "    return res\n",
    "\n",
    "a = df['Jenis Publikasi di Bidang AI'].dropna().to_list()\n",
    "a = [i.strip() for i in a]\n",
    "res = []\n",
    "for i in a:\n",
    "    b = i.split(',')\n",
    "    c = [ j.strip() for j in b]\n",
    "    res = res + c\n",
    "\n",
    "res = list(map(mapfunc,res))\n",
    "\n",
    "plot = pd.Series(res).value_counts().plot(kind='pie',autopct='%1.1f%%')\n",
    "plot.set_ylabel('')"
   ]
  },
  {
   "cell_type": "code",
   "execution_count": 30,
   "metadata": {},
   "outputs": [
    {
     "data": {
      "text/plain": [
       "<matplotlib.axes._subplots.AxesSubplot at 0x7f185045bb38>"
      ]
     },
     "execution_count": 30,
     "metadata": {},
     "output_type": "execute_result"
    },
    {
     "data": {
      "image/png": "[encoded data removed]",
      "text/plain": [
       "<Figure size 432x288 with 1 Axes>"
      ]
     },
     "metadata": {
      "needs_background": "light"
     },
     "output_type": "display_data"
    }
   ],
   "source": [
    "df['Jenjang (Untuk Kategori Mahasiswa)'].value_counts().plot(kind='bar')"
   ]
  },
  {
   "cell_type": "code",
   "execution_count": null,
   "metadata": {},
   "outputs": [],
   "source": []
  }
 ],
 "metadata": {
  "kernelspec": {
   "display_name": "work-py",
   "language": "python",
   "name": "work-py"
  },
  "language_info": {
   "codemirror_mode": {
    "name": "ipython",
    "version": 3
   },
   "file_extension": ".py",
   "mimetype": "text/x-python",
   "name": "python",
   "nbconvert_exporter": "python",
   "pygments_lexer": "ipython3",
   "version": "3.6.8"
  },
  "toc": {
   "base_numbering": 1,
   "nav_menu": {},
   "number_sections": true,
   "sideBar": true,
   "skip_h1_title": false,
   "title_cell": "Table of Contents",
   "title_sidebar": "Contents",
   "toc_cell": false,
   "toc_position": {},
   "toc_section_display": true,
   "toc_window_display": false
  }
 },
 "nbformat": 4,
 "nbformat_minor": 2
}
